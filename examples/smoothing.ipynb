{
 "cells": [
  {
   "cell_type": "code",
   "execution_count": 1,
   "id": "26a5bd17-ce4f-438b-9f2c-9d08214493e0",
   "metadata": {},
   "outputs": [],
   "source": [
    "%matplotlib qt\n",
    "import matplotlib.pyplot as plt\n",
    "import numpy as np\n",
    "from ssa_tools.core import SSA"
   ]
  },
  {
   "cell_type": "markdown",
   "id": "ff96937e-a458-42b5-a7d3-ecdf220fb6b4",
   "metadata": {},
   "source": [
    "# Smoothing data with SSA\n",
    "\n",
    "SSA is a great tool to smooth noisy data. It has some key advantages when compared to other methods:\n",
    "\n",
    "    - Vs moving windows: SSA does not alter the number of datapoints\n",
    "    - Vs parametric methods: SSA is relatively not parametric, needing only a lag length as an input\n",
    "        - Increase lag for more smoothing\n",
    "            - if more detail is required (specially on the edges), then add the first two RCs e.g. RC.sum(axis=1)\n",
    "        - For less smoothing, decrease lag"
   ]
  },
  {
   "cell_type": "code",
   "execution_count": 6,
   "id": "4fe4b86a-9d47-4e10-9f25-a82bc62f0b64",
   "metadata": {},
   "outputs": [],
   "source": [
    "data = np.linspace(0,5,100)\n",
    "data = np.concatenate([data, np.linspace(5,0,100)])\n",
    "data += np.sin(np.linspace(0,10*3.14,200)) + 0.2*np.random.rand(len(data))\n",
    "mySVD_SSA = SSA(data, lag = 50, numComp = 10, method=\"classic\", decomposition=\"SVD\")\n",
    "mySVD_SSA.computeSSA()\n",
    "mySVD_SSA.computeWCA()"
   ]
  },
  {
   "cell_type": "code",
   "execution_count": 21,
   "id": "5b868124-f48c-436c-ab21-55a97e779c15",
   "metadata": {},
   "outputs": [],
   "source": [
    "RC = mySVD_SSA.RC\n",
    "smoothedWith1Component = RC[:,0] # first component\n",
    "smoothedWith2Components = RC[:,0:2].sum(axis = 1) # sum the first two components\n",
    "smoothedWith3Components = RC[:,0:3].sum(axis = 1) # sum the first three components\n",
    "\n",
    "plt.figure(figsize = (6,6))\n",
    "plt.plot(data, linestyle = \"-\", color = \"k\", linewidth = 3, label = \"Original\")\n",
    "plt.plot(smoothedWith1Component, label = \"RC0\")\n",
    "plt.plot(smoothedWith2Components, label = \"RC0+RC1\")\n",
    "plt.plot(smoothedWith3Components, label = \"RC0+RC1+RC2\")\n",
    "plt.xlabel(\"Sample number\", fontsize = 14, fontname = \"arial\")\n",
    "plt.ylabel(\"Data\", fontsize = 14, fontname = \"arial\")\n",
    "plt.title(\"Smoothing data with SSA\", fontsize = 14, fontname = \"arial\")"
   ]
  }
 ],
 "metadata": {
  "kernelspec": {
   "display_name": "Python 3 (ipykernel)",
   "language": "python",
   "name": "python3"
  },
  "language_info": {
   "codemirror_mode": {
    "name": "ipython",
    "version": 3
   },
   "file_extension": ".py",
   "mimetype": "text/x-python",
   "name": "python",
   "nbconvert_exporter": "python",
   "pygments_lexer": "ipython3",
   "version": "3.12.7"
  }
 },
 "nbformat": 4,
 "nbformat_minor": 5
}
