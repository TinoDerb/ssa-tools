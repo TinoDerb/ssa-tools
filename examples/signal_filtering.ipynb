{
 "cells": [
  {
   "cell_type": "code",
   "execution_count": 1,
   "id": "e15f648a-830a-4749-8b16-cc9c0aa65eb9",
   "metadata": {},
   "outputs": [],
   "source": [
    "%matplotlib qt\n",
    "import matplotlib.pyplot as plt\n",
    "import numpy as np\n",
    "from ssa_tools.core import SSA"
   ]
  },
  {
   "cell_type": "markdown",
   "id": "0ab18218-1359-43e8-ba14-4e1d54c83feb",
   "metadata": {},
   "source": [
    "# Filtering signals with SSA\n",
    "\n",
    "The current package provides an accelerated execution of the SSA algorithm. This was actually the first usage that I had in mind for SSA and the work of accelerating the algorithm was part of my Ph.D. work.\n",
    "\n",
    "Unlike frequency filters, SSA has the advantage that it can possibly seperate different sources from each other, since there is an emphasis on seperability with the Weighter Correlation Analysis.\n",
    "\n",
    "In this example, we generate a toy dataset that we successfully reconstruct with the application of SSA"
   ]
  },
  {
   "cell_type": "code",
   "execution_count": 18,
   "id": "21560847-3fe2-4f7d-9bb6-b4026300593e",
   "metadata": {},
   "outputs": [],
   "source": [
    "Fs = 1_00_000\n",
    "t = np.linspace(0, 1, Fs, endpoint=False)\n",
    "# Frequencies\n",
    "f1 = 500   # .5 kHz\n",
    "f2 = 4000  # 4 kHz\n",
    "firstPeriodic = np.sin(2 * np.pi * f1 * t)\n",
    "secondPeriodic = 0.5 * np.cos(2 * np.pi * f2 * t)\n",
    "noise = 0.1*np.random.rand(Fs)\n",
    "signal = firstPeriodic + secondPeriodic + noise \n",
    "myAcceleratedSSA = SSA(signal, lag = 100, numComp = 5, method = \"accelerated\")\n",
    "myAcceleratedSSA.computeSSA()\n",
    "myAcceleratedSSA.computeWCA()\n",
    "myAcceleratedSSA.detectCorrelatedComponents(listPairs=True)"
   ]
  },
  {
   "cell_type": "code",
   "execution_count": 54,
   "id": "17d33712-0a16-4e1b-bd41-e3963460e44c",
   "metadata": {},
   "outputs": [],
   "source": [
    "plt.figure(figsize=(12,4))\n",
    "plt.subplot(1,3,1)\n",
    "plt.plot(signal, color = \"k\", label = \"Original\")\n",
    "plt.plot(firstPeriodic, label = \"First periodic\")\n",
    "plt.plot(secondPeriodic, label = \"Second periodic\")\n",
    "plt.plot(noise, label = \"Noise\")\n",
    "plt.xlim((100,500))\n",
    "plt.legend(loc = \"upper left\")\n",
    "plt.title(\"Orignal signal\", fontsize = 14, fontname = \"arial\")\n",
    "plt.xlabel(\"Sample number\", fontsize = 14, fontname = \"arial\")\n",
    "plt.ylabel(\"Signals\", fontsize = 14, fontname = \"arial\")\n",
    "plt.subplot(1,3,2)\n",
    "plt.plot(signal, color = \"k\", label = \"Original\")\n",
    "plt.plot(myAcceleratedSSA.RC[:,0], label = \"RC1\")\n",
    "plt.plot(myAcceleratedSSA.RC[:,1], label = \"RC2\")\n",
    "plt.plot(myAcceleratedSSA.RC[:,2], label = \"RC3\")\n",
    "plt.plot(myAcceleratedSSA.RC[:,3], label = \"RC4\")\n",
    "plt.plot(myAcceleratedSSA.RC[:,4], label = \"RC5\")\n",
    "plt.xlim((100,500))\n",
    "plt.title(\"SSA results\", fontsize = 14, fontname = \"arial\")\n",
    "plt.legend(loc = \"upper left\")\n",
    "plt.xlabel(\"Sample number\", fontsize = 14, fontname = \"arial\")\n",
    "plt.subplot(1,3,3)\n",
    "plt.plot(signal, color = \"k\", label = \"Original\")\n",
    "plt.plot(myAcceleratedSSA.RC[:,0]+myAcceleratedSSA.RC[:,1], label = \"Group 1\")\n",
    "plt.plot(myAcceleratedSSA.RC[:,2]+myAcceleratedSSA.RC[:,3], label = \"Group 2\")\n",
    "plt.plot(signal - myAcceleratedSSA.RC[:,0:4].sum(axis = 1), label = \"Rest\")\n",
    "plt.xlim((100,500))\n",
    "plt.legend(loc = \"upper left\")\n",
    "plt.title(\"After grouping\", fontsize = 14, fontname = \"arial\")\n",
    "plt.xlabel(\"Sample number\", fontsize = 14, fontname = \"arial\")\n",
    "plt.tight_layout()"
   ]
  }
 ],
 "metadata": {
  "kernelspec": {
   "display_name": "Python 3 (ipykernel)",
   "language": "python",
   "name": "python3"
  },
  "language_info": {
   "codemirror_mode": {
    "name": "ipython",
    "version": 3
   },
   "file_extension": ".py",
   "mimetype": "text/x-python",
   "name": "python",
   "nbconvert_exporter": "python",
   "pygments_lexer": "ipython3",
   "version": "3.12.7"
  }
 },
 "nbformat": 4,
 "nbformat_minor": 5
}
