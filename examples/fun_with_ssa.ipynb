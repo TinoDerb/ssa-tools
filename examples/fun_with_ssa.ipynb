{
 "cells": [
  {
   "cell_type": "code",
   "execution_count": 1,
   "id": "c2c31b27-a019-43c6-b199-01921799df96",
   "metadata": {},
   "outputs": [],
   "source": [
    "%matplotlib qt\n",
    "import matplotlib.pyplot as plt\n",
    "import numpy as np\n",
    "from ssa_tools.core import SSA"
   ]
  },
  {
   "cell_type": "markdown",
   "id": "de5e3d29-cbcd-4e41-8f1b-71d0518a36fb",
   "metadata": {},
   "source": [
    "# Define the data and computeSSA()"
   ]
  },
  {
   "cell_type": "code",
   "execution_count": 3,
   "id": "fb6d161a-114c-47f9-a44a-6b5561604858",
   "metadata": {},
   "outputs": [],
   "source": [
    "data = np.linspace(0,5,10000)\n",
    "data = np.concatenate([data, np.linspace(5,0,10000)])\n",
    "data += np.sin(data) \n",
    "data += np.cos(data)\n",
    "mySSA = SSA(data, lag = 100, numComp = 1)\n",
    "mySSA.computeSSA()"
   ]
  },
  {
   "cell_type": "markdown",
   "id": "1c6271fc-dabd-4b3d-a7a6-cecefd490b83",
   "metadata": {},
   "source": [
    "# Eigenvector patterns\n",
    "\n",
    "Nice symmetric patterns will appear when looking closer at the eigenvectors, this could be a sign of periodicity, symmetry or other patterns in the data.\n",
    "\n",
    "These look quite nice, one can print them, paint them on a cup, etc...\n",
    "\n",
    "As seen in this example, the data shows us the steps of doing pretzels 😁"
   ]
  },
  {
   "cell_type": "code",
   "execution_count": 7,
   "id": "c8d27f2a-d5b3-41ef-99ff-aaaef569bea9",
   "metadata": {},
   "outputs": [],
   "source": [
    "plt.figure(figsize = (10,2))\n",
    "for i in range(1,6):\n",
    "    plt.subplot(1,5,i)\n",
    "    plt.scatter(mySSA.eigenvectors[:,i], mySSA.eigenvectors[:,i+1], c = np.linspace(0,1,len(mySSA.eigenvectors[:,i+1])), cmap = \"jet\")\n",
    "    plt.axvline(0, color = \"k\")\n",
    "    plt.axhline(0, color = \"k\")\n",
    "    plt.xlim((-1.1*np.abs(mySSA.eigenvectors[:,i]).max(),1.1*np.abs(mySSA.eigenvectors[:,i]).max()))\n",
    "    plt.ylim((-1.1*np.abs(mySSA.eigenvectors[:,i+1]).max(),1.1*np.abs(mySSA.eigenvectors[:,i+1]).max()))\n",
    "    plt.axis(\"off\")\n",
    "plt.subplots_adjust(wspace = 0.1, hspace = 0)\n",
    "plt.tight_layout()"
   ]
  }
 ],
 "metadata": {
  "kernelspec": {
   "display_name": "Python 3 (ipykernel)",
   "language": "python",
   "name": "python3"
  },
  "language_info": {
   "codemirror_mode": {
    "name": "ipython",
    "version": 3
   },
   "file_extension": ".py",
   "mimetype": "text/x-python",
   "name": "python",
   "nbconvert_exporter": "python",
   "pygments_lexer": "ipython3",
   "version": "3.12.7"
  }
 },
 "nbformat": 4,
 "nbformat_minor": 5
}
