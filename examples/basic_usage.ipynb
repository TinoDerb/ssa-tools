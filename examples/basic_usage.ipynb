{
 "cells": [
  {
   "cell_type": "code",
   "execution_count": 1,
   "id": "308fc3ea-264b-47d9-affd-b1d689f6a025",
   "metadata": {},
   "outputs": [],
   "source": [
    "%matplotlib qt\n",
    "import matplotlib.pyplot as plt\n",
    "import numpy as np\n",
    "from ssa_tools.core import SSA"
   ]
  },
  {
   "cell_type": "markdown",
   "id": "d21581bf-2da4-475b-b835-3c4b4f9585f0",
   "metadata": {},
   "source": [
    "# Define the signal"
   ]
  },
  {
   "cell_type": "code",
   "execution_count": 3,
   "id": "75612601-50c0-4063-8b83-565e68f088ce",
   "metadata": {},
   "outputs": [],
   "source": [
    "data = np.linspace(0,5,100)\n",
    "data = np.concatenate([data, np.linspace(5,0,100)])\n",
    "data += np.sin(np.linspace(0,10*3.14,200)) + 0.2*np.random.rand(len(data))"
   ]
  },
  {
   "cell_type": "markdown",
   "id": "b7425ad2-a043-4efb-843f-bc1bc5275a97",
   "metadata": {},
   "source": [
    "# Init and apply the SSA and WCA computations"
   ]
  },
  {
   "cell_type": "code",
   "execution_count": 5,
   "id": "5cb095ed-2edb-4669-b453-9dd7e437c3b7",
   "metadata": {},
   "outputs": [],
   "source": [
    "mySVD_SSA = SSA(data, lag = 50, numComp = 10, method=\"classic\", decomposition=\"SVD\")\n",
    "myEVD_SSA = SSA(data, lag = 50, numComp = 10, method=\"classic\", decomposition=\"EVD\")\n",
    "myEVD_SSA_acc = SSA(data, lag = 50, numComp = 10, method=\"accelerated\", decomposition=\"EVD\")\n",
    "mySVD_SSA.computeSSA()\n",
    "myEVD_SSA.computeSSA()\n",
    "myEVD_SSA_acc.computeSSA()\n",
    "mySVD_SSA.computeWCA()\n",
    "myEVD_SSA.computeWCA()\n",
    "myEVD_SSA_acc.computeWCA()"
   ]
  },
  {
   "cell_type": "markdown",
   "id": "f68c6f3e-2f5b-4d1b-888a-8d5d05d6c6bf",
   "metadata": {},
   "source": [
    "# Sanity check: all variants are equivalent"
   ]
  },
  {
   "cell_type": "code",
   "execution_count": 7,
   "id": "228ae84d-8d3e-4a5e-a9bd-261e4e13863b",
   "metadata": {},
   "outputs": [
    {
     "name": "stdout",
     "output_type": "stream",
     "text": [
      "Compare SVD vs EVD results\n",
      "All Eigenvectors the same?\tTrue\n",
      "All Eigenvalues the same?\tTrue\n",
      "All RC the same?\t\tTrue\n",
      "All WCorr the same?\t\tTrue\n",
      "Compare classic vs accelerated results\n",
      "All Eigenvectors the same?\tTrue\n",
      "All Eigenvalues the same?\tTrue\n",
      "All RC the same?\t\tTrue\n",
      "All WCorr the same?\t\tTrue\n"
     ]
    }
   ],
   "source": [
    "# Test that SVD classic is the same as EVD classic\n",
    "print(\"Compare SVD vs EVD results\")\n",
    "#Test 1: all eigenvectors are the same\n",
    "print(f\"All Eigenvectors the same?\\t{np.allclose(np.abs(mySVD_SSA.eigenvectors), np.abs(myEVD_SSA.eigenvectors))}\")\n",
    "#Test 2: all eigenvalues are the same\n",
    "print(f\"All Eigenvalues the same?\\t{np.allclose(np.abs(mySVD_SSA.eigenvalues), np.abs(myEVD_SSA.eigenvalues))}\")\n",
    "#Test 3: all RC are the same\n",
    "print(f\"All RC the same?\\t\\t{np.allclose(mySVD_SSA.RC, myEVD_SSA.RC)}\")\n",
    "#Test 4: all WCorr are the same\n",
    "print(f\"All WCorr the same?\\t\\t{np.allclose(mySVD_SSA.WCorr, myEVD_SSA.WCorr)}\")\n",
    "# Test that EVD accelerated is the same as EVD classic\n",
    "print(\"Compare classic vs accelerated results\")\n",
    "#Test 1: all eigenvectors are the same\n",
    "print(f\"All Eigenvectors the same?\\t{np.allclose(np.abs(myEVD_SSA_acc.eigenvectors), np.abs(myEVD_SSA.eigenvectors))}\")\n",
    "#Test 2: all eigenvalues are the same\n",
    "print(f\"All Eigenvalues the same?\\t{np.allclose(np.abs(myEVD_SSA_acc.eigenvalues), np.abs(myEVD_SSA.eigenvalues))}\")\n",
    "#Test 3: all RC are the same\n",
    "print(f\"All RC the same?\\t\\t{np.allclose(myEVD_SSA_acc.RC, myEVD_SSA.RC)}\")\n",
    "#Test 4: all WCorr are the same\n",
    "print(f\"All WCorr the same?\\t\\t{np.allclose(myEVD_SSA_acc.WCorr, myEVD_SSA.WCorr)}\")"
   ]
  },
  {
   "cell_type": "markdown",
   "id": "e091acdd-6503-405a-b2b8-577214ea3e95",
   "metadata": {},
   "source": [
    "# Since all are equivalent, plot only one"
   ]
  },
  {
   "cell_type": "code",
   "execution_count": 9,
   "id": "3daf7fe2-32aa-4560-9b88-280ae618f49d",
   "metadata": {},
   "outputs": [
    {
     "name": "stdout",
     "output_type": "stream",
     "text": [
      "Components 7 and 8 are highly correlated (R = 0.99)\n"
     ]
    }
   ],
   "source": [
    "myEVD_SSA.plotReconstructedComponents()\n",
    "myEVD_SSA.plotWeightedCorrelations()\n",
    "myEVD_SSA.plotVarianceExplained()\n",
    "myEVD_SSA.detectCorrelatedComponents(listPairs=True)"
   ]
  }
 ],
 "metadata": {
  "kernelspec": {
   "display_name": "Python 3 (ipykernel)",
   "language": "python",
   "name": "python3"
  },
  "language_info": {
   "codemirror_mode": {
    "name": "ipython",
    "version": 3
   },
   "file_extension": ".py",
   "mimetype": "text/x-python",
   "name": "python",
   "nbconvert_exporter": "python",
   "pygments_lexer": "ipython3",
   "version": "3.12.7"
  }
 },
 "nbformat": 4,
 "nbformat_minor": 5
}
